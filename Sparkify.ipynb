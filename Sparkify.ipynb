{
 "cells": [
  {
   "cell_type": "markdown",
   "metadata": {},
   "source": [
    "# Sparkify Project Workspace\n",
    "This workspace contains a tiny subset (128MB) of the full dataset available (12GB). Feel free to use this workspace to build your project, or to explore a smaller subset with Spark before deploying your cluster on the cloud. Instructions for setting up your Spark cluster is included in the last lesson of the Extracurricular Spark Course content.\n",
    "\n",
    "You can follow the steps below to guide your data analysis and model building portion of this project."
   ]
  },
  {
   "cell_type": "code",
   "execution_count": 70,
   "metadata": {},
   "outputs": [],
   "source": [
    "# import libraries\n",
    "from pyspark.sql import SparkSession, Window\n",
    "from pyspark.sql.functions import avg, col, desc, min, max, udf\n",
    "from pyspark.sql.functions import sum as Fsum\n",
    "from pyspark.sql.types import IntegerType, StringType, FloatType\n",
    "\n",
    "from pyspark.ml import Pipeline\n",
    "from pyspark.ml.classification import LogisticRegression, RandomForestClassifier, GBTClassifier, LinearSVC\n",
    "from pyspark.ml.feature import StringIndexerModel, VectorAssembler, StandardScaler\n",
    "from pyspark.ml.evaluation import BinaryClassificationEvaluator,MulticlassClassificationEvaluator\n",
    "from pyspark.ml.tuning import CrossValidator, ParamGridBuilder\n",
    "\n",
    "import datetime\n",
    "\n",
    "import pandas as pd\n",
    "import seaborn as sns\n",
    "import matplotlib.pyplot as plt\n",
    "\n",
    "%matplotlib inline\n"
   ]
  },
  {
   "cell_type": "code",
   "execution_count": 2,
   "metadata": {},
   "outputs": [],
   "source": [
    "# create a Spark session\n",
    "spark = SparkSession.builder \\\n",
    "    .master('local') \\\n",
    "    .appName('Churn Prediction') \\\n",
    "    .getOrCreate()\n"
   ]
  },
  {
   "cell_type": "markdown",
   "metadata": {},
   "source": [
    "# Load and Clean Dataset\n",
    "In this workspace, the mini-dataset file is `mini_sparkify_event_data.json`. Load and clean the dataset, checking for invalid or missing data - for example, records without userids or sessionids. "
   ]
  },
  {
   "cell_type": "code",
   "execution_count": 3,
   "metadata": {},
   "outputs": [],
   "source": [
    "file = 'mini_sparkify_event_data.json'\n",
    "\n",
    "df = spark.read.json(file)"
   ]
  },
  {
   "cell_type": "code",
   "execution_count": 4,
   "metadata": {},
   "outputs": [
    {
     "data": {
      "text/plain": [
       "Row(artist='Martha Tilston', auth='Logged In', firstName='Colin', gender='M', itemInSession=50, lastName='Freeman', length=277.89016, level='paid', location='Bakersfield, CA', method='PUT', page='NextSong', registration=1538173362000, sessionId=29, song='Rockpools', status=200, ts=1538352117000, userAgent='Mozilla/5.0 (Windows NT 6.1; WOW64; rv:31.0) Gecko/20100101 Firefox/31.0', userId='30')"
      ]
     },
     "execution_count": 4,
     "metadata": {},
     "output_type": "execute_result"
    }
   ],
   "source": [
    "#looking at the data\n",
    "df.head()"
   ]
  },
  {
   "cell_type": "code",
   "execution_count": 5,
   "metadata": {},
   "outputs": [
    {
     "name": "stdout",
     "output_type": "stream",
     "text": [
      "root\n",
      " |-- artist: string (nullable = true)\n",
      " |-- auth: string (nullable = true)\n",
      " |-- firstName: string (nullable = true)\n",
      " |-- gender: string (nullable = true)\n",
      " |-- itemInSession: long (nullable = true)\n",
      " |-- lastName: string (nullable = true)\n",
      " |-- length: double (nullable = true)\n",
      " |-- level: string (nullable = true)\n",
      " |-- location: string (nullable = true)\n",
      " |-- method: string (nullable = true)\n",
      " |-- page: string (nullable = true)\n",
      " |-- registration: long (nullable = true)\n",
      " |-- sessionId: long (nullable = true)\n",
      " |-- song: string (nullable = true)\n",
      " |-- status: long (nullable = true)\n",
      " |-- ts: long (nullable = true)\n",
      " |-- userAgent: string (nullable = true)\n",
      " |-- userId: string (nullable = true)\n",
      "\n"
     ]
    }
   ],
   "source": [
    "#Looking at the data schema\n",
    "df.printSchema()"
   ]
  },
  {
   "cell_type": "code",
   "execution_count": 6,
   "metadata": {
    "scrolled": true
   },
   "outputs": [
    {
     "name": "stdout",
     "output_type": "stream",
     "text": [
      "+-------+------------------+----------+---------+------+------------------+--------+-----------------+------+-----------------+------+-------+--------------------+-----------------+--------------------+------------------+--------------------+--------------------+-----------------+\n",
      "|summary|            artist|      auth|firstName|gender|     itemInSession|lastName|           length| level|         location|method|   page|        registration|        sessionId|                song|            status|                  ts|           userAgent|           userId|\n",
      "+-------+------------------+----------+---------+------+------------------+--------+-----------------+------+-----------------+------+-------+--------------------+-----------------+--------------------+------------------+--------------------+--------------------+-----------------+\n",
      "|  count|            228108|    286500|   278154|278154|            286500|  278154|           228108|286500|           278154|286500| 286500|              278154|           286500|              228108|            286500|              286500|              278154|           286500|\n",
      "|   mean| 551.0852017937219|      null|     null|  null|114.41421291448516|    null|249.1171819778458|  null|             null|  null|   null|1.535358834084427...|1041.526554973822|            Infinity|210.05459685863875|1.540956889810483...|                null|59682.02278593872|\n",
      "| stddev|1217.7693079161374|      null|     null|  null|129.76726201140994|    null|99.23517921058361|  null|             null|  null|   null| 3.291321616327586E9|726.7762634630741|                 NaN| 31.50507848842214|1.5075439608226302E9|                null|109091.9499991047|\n",
      "|    min|               !!!| Cancelled| Adelaida|     F|                 0|   Adams|          0.78322|  free|       Albany, OR|   GET|  About|       1521380675000|                1|\u001c",
      "ÃÂg ÃÂtti Gr...|               200|       1538352117000|\"Mozilla/5.0 (Mac...|                 |\n",
      "|    max| ÃÂlafur Arnalds|Logged Out|   Zyonna|     M|              1321|  Wright|       3024.66567|  paid|Winston-Salem, NC|   PUT|Upgrade|       1543247354000|             2474|ÃÂau hafa slopp...|               404|       1543799476000|Mozilla/5.0 (comp...|               99|\n",
      "+-------+------------------+----------+---------+------+------------------+--------+-----------------+------+-----------------+------+-------+--------------------+-----------------+--------------------+------------------+--------------------+--------------------+-----------------+\n",
      "\n"
     ]
    }
   ],
   "source": [
    "#looking at the descriptive stats\n",
    "df.describe().show()"
   ]
  },
  {
   "cell_type": "markdown",
   "metadata": {},
   "source": [
    "This is not easy to comprehend because of the volume of the dataset. Hence, we will try to view the data from the number of rows for each column point of view. From here we can see which columns have missing values and treat them accordingly."
   ]
  },
  {
   "cell_type": "code",
   "execution_count": 7,
   "metadata": {},
   "outputs": [
    {
     "name": "stdout",
     "output_type": "stream",
     "text": [
      "The number of rows is 286500\n",
      "The number of columns is 18\n",
      "-RECORD 0---------------\n",
      " summary       | count  \n",
      " artist        | 228108 \n",
      " auth          | 286500 \n",
      " firstName     | 278154 \n",
      " gender        | 278154 \n",
      " itemInSession | 286500 \n",
      " lastName      | 278154 \n",
      " length        | 228108 \n",
      " level         | 286500 \n",
      " location      | 278154 \n",
      " method        | 286500 \n",
      " page          | 286500 \n",
      " registration  | 278154 \n",
      " sessionId     | 286500 \n",
      " song          | 228108 \n",
      " status        | 286500 \n",
      " ts            | 286500 \n",
      " userAgent     | 278154 \n",
      " userId        | 286500 \n",
      "only showing top 1 row\n",
      "\n"
     ]
    }
   ],
   "source": [
    "#Get total number of rows and columns\n",
    "print(\"The number of rows is {}\".format(df.count()))\n",
    "print(\"The number of columns is {}\".format(len(df.columns)))\n",
    "\n",
    "#Get total number of rows for each column\n",
    "df.describe().show(1, vertical=True)"
   ]
  },
  {
   "cell_type": "markdown",
   "metadata": {},
   "source": [
    "There is a maximum of 286500 rows and some columns are not meeting up to this. i.e- columns artist, firstname, gender, userAgent etc have missing values"
   ]
  },
  {
   "cell_type": "code",
   "execution_count": 8,
   "metadata": {},
   "outputs": [
    {
     "name": "stdout",
     "output_type": "stream",
     "text": [
      "+------+\n",
      "|userId|\n",
      "+------+\n",
      "|      |\n",
      "|    10|\n",
      "|   100|\n",
      "|100001|\n",
      "|100002|\n",
      "|100003|\n",
      "|100004|\n",
      "|100005|\n",
      "|100006|\n",
      "|100007|\n",
      "|100008|\n",
      "|100009|\n",
      "|100010|\n",
      "|100011|\n",
      "|100012|\n",
      "|100013|\n",
      "|100014|\n",
      "|100015|\n",
      "|100016|\n",
      "|100017|\n",
      "+------+\n",
      "only showing top 20 rows\n",
      "\n"
     ]
    }
   ],
   "source": [
    "#Checking unique available userIds\n",
    "df.select('userId').dropDuplicates().sort('userId').show()"
   ]
  },
  {
   "cell_type": "code",
   "execution_count": 9,
   "metadata": {},
   "outputs": [
    {
     "name": "stdout",
     "output_type": "stream",
     "text": [
      "+------+-----+\n",
      "|userId|count|\n",
      "+------+-----+\n",
      "|      | 8346|\n",
      "|    10|  795|\n",
      "|   100| 3214|\n",
      "|100001|  187|\n",
      "|100002|  218|\n",
      "|100003|   78|\n",
      "|100004| 1245|\n",
      "|100005|  216|\n",
      "|100006|   44|\n",
      "|100007|  520|\n",
      "|100008|  940|\n",
      "|100009|  671|\n",
      "|100010|  381|\n",
      "|100011|   23|\n",
      "|100012|  600|\n",
      "|100013| 1392|\n",
      "|100014|  310|\n",
      "|100015| 1050|\n",
      "|100016|  638|\n",
      "|100017|   75|\n",
      "+------+-----+\n",
      "only showing top 20 rows\n",
      "\n"
     ]
    }
   ],
   "source": [
    "df.select('userId').groupby(df.userId).count().sort('userId').show()"
   ]
  },
  {
   "cell_type": "code",
   "execution_count": 10,
   "metadata": {},
   "outputs": [],
   "source": [
    "# Dropping missing values in the userId columns\n",
    "df = df.filter(df.userId != '')"
   ]
  },
  {
   "cell_type": "code",
   "execution_count": 11,
   "metadata": {},
   "outputs": [
    {
     "name": "stdout",
     "output_type": "stream",
     "text": [
      "-RECORD 0---------------\n",
      " summary       | count  \n",
      " artist        | 228108 \n",
      " auth          | 278154 \n",
      " firstName     | 278154 \n",
      " gender        | 278154 \n",
      " itemInSession | 278154 \n",
      " lastName      | 278154 \n",
      " length        | 228108 \n",
      " level         | 278154 \n",
      " location      | 278154 \n",
      " method        | 278154 \n",
      " page          | 278154 \n",
      " registration  | 278154 \n",
      " sessionId     | 278154 \n",
      " song          | 228108 \n",
      " status        | 278154 \n",
      " ts            | 278154 \n",
      " userAgent     | 278154 \n",
      " userId        | 278154 \n",
      "only showing top 1 row\n",
      "\n"
     ]
    }
   ],
   "source": [
    "#Checking the counts of each column again\n",
    "df.describe().show(1, vertical=True)"
   ]
  },
  {
   "cell_type": "code",
   "execution_count": null,
   "metadata": {},
   "outputs": [],
   "source": []
  },
  {
   "cell_type": "markdown",
   "metadata": {},
   "source": [
    "# Exploratory Data Analysis\n",
    "When you're working with the full dataset, perform EDA by loading a small subset of the data and doing basic manipulations within Spark. In this workspace, you are already provided a small subset of data you can explore.\n",
    "\n",
    "### Define Churn\n",
    "\n",
    "Once you've done some preliminary analysis, create a column `Churn` to use as the label for your model. I suggest using the `Cancellation Confirmation` events to define your churn, which happen for both paid and free users. As a bonus task, you can also look into the `Downgrade` events.\n",
    "\n",
    "### Explore Data\n",
    "Once you've defined churn, perform some exploratory data analysis to observe the behavior for users who stayed vs users who churned. You can start by exploring aggregates on these two groups of users, observing how much of a specific action they experienced per a certain time unit or number of songs played."
   ]
  },
  {
   "cell_type": "code",
   "execution_count": null,
   "metadata": {},
   "outputs": [],
   "source": []
  },
  {
   "cell_type": "code",
   "execution_count": 12,
   "metadata": {},
   "outputs": [
    {
     "name": "stdout",
     "output_type": "stream",
     "text": [
      "+-----+\n",
      "|level|\n",
      "+-----+\n",
      "| free|\n",
      "| paid|\n",
      "+-----+\n",
      "\n"
     ]
    }
   ],
   "source": [
    "#Understanding the levels of subscription \n",
    "df.createOrReplaceTempView(\"df_log\")\n",
    "spark.sql(\"SELECT DISTINCT level FROM df_log\").show()"
   ]
  },
  {
   "cell_type": "code",
   "execution_count": 13,
   "metadata": {},
   "outputs": [],
   "source": [
    "#Creating a udf function to identify churn by flagging an event with the \"Cancellation Confirmation\" page\n",
    "\n",
    "is_churned = udf(lambda x: 1 if x == \"Cancellation Confirmation\" else 0, IntegerType())"
   ]
  },
  {
   "cell_type": "code",
   "execution_count": 14,
   "metadata": {},
   "outputs": [],
   "source": [
    "# Add a new column 'isChurned' by passing a value in the 'page' column to the udf function\n",
    "# created above (is_churned)\n",
    "df = df.withColumn('isChurned', is_churned(\"page\"))"
   ]
  },
  {
   "cell_type": "code",
   "execution_count": 15,
   "metadata": {},
   "outputs": [
    {
     "data": {
      "text/plain": [
       "Row(artist='Martha Tilston', auth='Logged In', firstName='Colin', gender='M', itemInSession=50, lastName='Freeman', length=277.89016, level='paid', location='Bakersfield, CA', method='PUT', page='NextSong', registration=1538173362000, sessionId=29, song='Rockpools', status=200, ts=1538352117000, userAgent='Mozilla/5.0 (Windows NT 6.1; WOW64; rv:31.0) Gecko/20100101 Firefox/31.0', userId='30', isChurned=0)"
      ]
     },
     "execution_count": 15,
     "metadata": {},
     "output_type": "execute_result"
    }
   ],
   "source": [
    "# Checking to see the implementation \n",
    "df.head()"
   ]
  },
  {
   "cell_type": "code",
   "execution_count": 16,
   "metadata": {},
   "outputs": [],
   "source": [
    "#Identifying events of users who are churned by \n",
    "# 1. Creating a window object and partitioning by userId and ordering descendingly by a timestamp 'ts'\n",
    "# 2. Then, using the pyspark.sql.functions.sum function (Fsum) to do an accumulate sum within a window and assign its value to a new column 'will_churn'\n",
    "# 3. With the steps above, events with users who are churned \n",
    "\n",
    "windowval = Window.partitionBy(\"userId\") \\\n",
    "                .orderBy(desc(\"ts\")) \\\n",
    "                .rangeBetween(Window.unboundedPreceding, 0)\n",
    "\n",
    "df = df.withColumn(\"will_churn\", Fsum(\"isChurned\").over(windowval))"
   ]
  },
  {
   "cell_type": "code",
   "execution_count": 17,
   "metadata": {},
   "outputs": [],
   "source": [
    "#Converting the timestamps into datetime format and add them to the dataframe\n",
    "get_datetime = udf(lambda x: datetime.datetime.fromtimestamp(x / 1000.0).strftime(\"%Y-%m-%d %H:%M:%S\"))\n",
    "df = df.withColumn('datetime', get_datetime(df.ts))"
   ]
  },
  {
   "cell_type": "code",
   "execution_count": 18,
   "metadata": {},
   "outputs": [
    {
     "name": "stdout",
     "output_type": "stream",
     "text": [
      "+------+-------------------+--------------------+-----+----------+\n",
      "|userId|           datetime|                page|level|will_churn|\n",
      "+------+-------------------+--------------------+-----+----------+\n",
      "|100001|2018-10-02 11:36:45|Cancellation Conf...| free|         1|\n",
      "|100001|2018-10-02 11:34:34|              Cancel| free|         1|\n",
      "|100001|2018-10-02 11:34:33|         Roll Advert| free|         1|\n",
      "|100001|2018-10-02 11:33:52|            NextSong| free|         1|\n",
      "|100001|2018-10-02 11:29:46|                Home| free|         1|\n",
      "|100001|2018-10-02 11:29:19|              Logout| free|         1|\n",
      "|100001|2018-10-02 11:29:18|            NextSong| free|         1|\n",
      "|100001|2018-10-02 11:24:34|            NextSong| free|         1|\n",
      "|100001|2018-10-02 11:19:54|            NextSong| free|         1|\n",
      "|100001|2018-10-02 11:16:50|                Help| free|         1|\n",
      "|100001|2018-10-02 11:16:24|            NextSong| free|         1|\n",
      "|100001|2018-10-02 11:13:59|         Roll Advert| free|         1|\n",
      "|100001|2018-10-02 11:12:33|            NextSong| free|         1|\n",
      "|100001|2018-10-02 11:07:00|            NextSong| free|         1|\n",
      "|100001|2018-10-02 11:03:18|            NextSong| free|         1|\n",
      "|100001|2018-10-02 11:00:21|            NextSong| free|         1|\n",
      "|100001|2018-10-02 10:50:27|            NextSong| free|         1|\n",
      "|100001|2018-10-02 10:42:36|            NextSong| free|         1|\n",
      "|100001|2018-10-02 10:39:43|            NextSong| free|         1|\n",
      "|100001|2018-10-02 10:33:45|                Home| free|         1|\n",
      "+------+-------------------+--------------------+-----+----------+\n",
      "only showing top 20 rows\n",
      "\n"
     ]
    }
   ],
   "source": [
    "# Viewing \n",
    "df.filter('will_churn == 1').select('userId', 'datetime', 'page', 'level', 'will_churn').show()"
   ]
  },
  {
   "cell_type": "markdown",
   "metadata": {},
   "source": [
    "### Now we are going to compare page counts of events with and without churns "
   ]
  },
  {
   "cell_type": "code",
   "execution_count": 19,
   "metadata": {},
   "outputs": [],
   "source": [
    "# Get page count of events with and without churns\n",
    "df_churn_page = df.groupby('will_churn', 'page') \\\n",
    "    .count() \\\n",
    "    .orderBy(desc('will_churn'), desc('count'))"
   ]
  },
  {
   "cell_type": "code",
   "execution_count": 20,
   "metadata": {},
   "outputs": [
    {
     "name": "stdout",
     "output_type": "stream",
     "text": [
      "+----------+--------------------+------+\n",
      "|will_churn|                page| count|\n",
      "+----------+--------------------+------+\n",
      "|         1|            NextSong| 36394|\n",
      "|         1|           Thumbs Up|  1859|\n",
      "|         1|                Home|  1672|\n",
      "|         1|     Add to Playlist|  1038|\n",
      "|         1|         Roll Advert|   967|\n",
      "|         1|          Add Friend|   636|\n",
      "|         1|              Logout|   553|\n",
      "|         1|         Thumbs Down|   496|\n",
      "|         1|           Downgrade|   337|\n",
      "|         1|            Settings|   270|\n",
      "|         1|                Help|   239|\n",
      "|         1|             Upgrade|   112|\n",
      "|         1|       Save Settings|    58|\n",
      "|         1|               About|    56|\n",
      "|         1|              Cancel|    52|\n",
      "|         1|Cancellation Conf...|    52|\n",
      "|         1|      Submit Upgrade|    32|\n",
      "|         1|               Error|    32|\n",
      "|         1|    Submit Downgrade|     9|\n",
      "|         0|            NextSong|191714|\n",
      "+----------+--------------------+------+\n",
      "only showing top 20 rows\n",
      "\n"
     ]
    }
   ],
   "source": [
    "# Viewing\n",
    "df_churn_page.show()"
   ]
  },
  {
   "cell_type": "code",
   "execution_count": 21,
   "metadata": {},
   "outputs": [],
   "source": [
    "# Visualize the results. But first converting data to pandas \n",
    "pd_churn_page = df_churn_page.toPandas()"
   ]
  },
  {
   "cell_type": "code",
   "execution_count": 22,
   "metadata": {},
   "outputs": [
    {
     "data": {
      "text/plain": [
       "will_churn\n",
       "0    233290\n",
       "1     44864\n",
       "Name: count, dtype: int64"
      ]
     },
     "execution_count": 22,
     "metadata": {},
     "output_type": "execute_result"
    }
   ],
   "source": [
    "#Finding total counts of each type\n",
    "total_churn_page = pd_churn_page.groupby('will_churn')['count'].sum()\n",
    "total_churn_page"
   ]
  },
  {
   "cell_type": "code",
   "execution_count": 23,
   "metadata": {},
   "outputs": [],
   "source": [
    "#Creating a new column called to store the percentages of each page count\n",
    "def get_page_count_percentage(row):\n",
    "    return (row['count'] / total_churn_page[row['will_churn']])*100\n",
    "\n",
    "pd_churn_page['percentage'] = pd_churn_page.apply(lambda row: get_page_count_percentage(row), axis=1)"
   ]
  },
  {
   "cell_type": "code",
   "execution_count": 24,
   "metadata": {},
   "outputs": [
    {
     "data": {
      "text/html": [
       "<div>\n",
       "<style scoped>\n",
       "    .dataframe tbody tr th:only-of-type {\n",
       "        vertical-align: middle;\n",
       "    }\n",
       "\n",
       "    .dataframe tbody tr th {\n",
       "        vertical-align: top;\n",
       "    }\n",
       "\n",
       "    .dataframe thead th {\n",
       "        text-align: right;\n",
       "    }\n",
       "</style>\n",
       "<table border=\"1\" class=\"dataframe\">\n",
       "  <thead>\n",
       "    <tr style=\"text-align: right;\">\n",
       "      <th>page</th>\n",
       "      <th>About</th>\n",
       "      <th>Add Friend</th>\n",
       "      <th>Add to Playlist</th>\n",
       "      <th>Cancel</th>\n",
       "      <th>Cancellation Confirmation</th>\n",
       "      <th>Downgrade</th>\n",
       "      <th>Error</th>\n",
       "      <th>Help</th>\n",
       "      <th>Home</th>\n",
       "      <th>Logout</th>\n",
       "      <th>NextSong</th>\n",
       "      <th>Roll Advert</th>\n",
       "      <th>Save Settings</th>\n",
       "      <th>Settings</th>\n",
       "      <th>Submit Downgrade</th>\n",
       "      <th>Submit Upgrade</th>\n",
       "      <th>Thumbs Down</th>\n",
       "      <th>Thumbs Up</th>\n",
       "      <th>Upgrade</th>\n",
       "    </tr>\n",
       "    <tr>\n",
       "      <th>will_churn</th>\n",
       "      <th></th>\n",
       "      <th></th>\n",
       "      <th></th>\n",
       "      <th></th>\n",
       "      <th></th>\n",
       "      <th></th>\n",
       "      <th></th>\n",
       "      <th></th>\n",
       "      <th></th>\n",
       "      <th></th>\n",
       "      <th></th>\n",
       "      <th></th>\n",
       "      <th></th>\n",
       "      <th></th>\n",
       "      <th></th>\n",
       "      <th></th>\n",
       "      <th></th>\n",
       "      <th></th>\n",
       "      <th></th>\n",
       "    </tr>\n",
       "  </thead>\n",
       "  <tbody>\n",
       "    <tr>\n",
       "      <th>0</th>\n",
       "      <td>0.188178</td>\n",
       "      <td>1.560718</td>\n",
       "      <td>2.352437</td>\n",
       "      <td>NaN</td>\n",
       "      <td>NaN</td>\n",
       "      <td>0.736422</td>\n",
       "      <td>0.094303</td>\n",
       "      <td>0.520811</td>\n",
       "      <td>3.604955</td>\n",
       "      <td>1.145784</td>\n",
       "      <td>82.178405</td>\n",
       "      <td>1.271379</td>\n",
       "      <td>0.10802</td>\n",
       "      <td>0.533242</td>\n",
       "      <td>0.023147</td>\n",
       "      <td>0.054439</td>\n",
       "      <td>0.878735</td>\n",
       "      <td>4.583137</td>\n",
       "      <td>0.165888</td>\n",
       "    </tr>\n",
       "    <tr>\n",
       "      <th>1</th>\n",
       "      <td>0.124822</td>\n",
       "      <td>1.417618</td>\n",
       "      <td>2.313659</td>\n",
       "      <td>0.115906</td>\n",
       "      <td>0.115906</td>\n",
       "      <td>0.751159</td>\n",
       "      <td>0.071327</td>\n",
       "      <td>0.532721</td>\n",
       "      <td>3.726819</td>\n",
       "      <td>1.232614</td>\n",
       "      <td>81.120720</td>\n",
       "      <td>2.155403</td>\n",
       "      <td>0.12928</td>\n",
       "      <td>0.601819</td>\n",
       "      <td>0.020061</td>\n",
       "      <td>0.071327</td>\n",
       "      <td>1.105563</td>\n",
       "      <td>4.143634</td>\n",
       "      <td>0.249643</td>\n",
       "    </tr>\n",
       "  </tbody>\n",
       "</table>\n",
       "</div>"
      ],
      "text/plain": [
       "page           About  Add Friend  Add to Playlist    Cancel  \\\n",
       "will_churn                                                    \n",
       "0           0.188178    1.560718         2.352437       NaN   \n",
       "1           0.124822    1.417618         2.313659  0.115906   \n",
       "\n",
       "page        Cancellation Confirmation  Downgrade     Error      Help  \\\n",
       "will_churn                                                             \n",
       "0                                 NaN   0.736422  0.094303  0.520811   \n",
       "1                            0.115906   0.751159  0.071327  0.532721   \n",
       "\n",
       "page            Home    Logout   NextSong  Roll Advert  Save Settings  \\\n",
       "will_churn                                                              \n",
       "0           3.604955  1.145784  82.178405     1.271379        0.10802   \n",
       "1           3.726819  1.232614  81.120720     2.155403        0.12928   \n",
       "\n",
       "page        Settings  Submit Downgrade  Submit Upgrade  Thumbs Down  \\\n",
       "will_churn                                                            \n",
       "0           0.533242          0.023147        0.054439     0.878735   \n",
       "1           0.601819          0.020061        0.071327     1.105563   \n",
       "\n",
       "page        Thumbs Up   Upgrade  \n",
       "will_churn                       \n",
       "0            4.583137  0.165888  \n",
       "1            4.143634  0.249643  "
      ]
     },
     "execution_count": 24,
     "metadata": {},
     "output_type": "execute_result"
    }
   ],
   "source": [
    "# Showing a pivot table for better visualization of the data\n",
    "pd_churn_page.pivot(index='will_churn', columns='page', values='percentage')"
   ]
  },
  {
   "cell_type": "code",
   "execution_count": 25,
   "metadata": {},
   "outputs": [
    {
     "data": {
      "image/png": "[encoded data removed]",
      "text/plain": [
       "<Figure size 576x432 with 1 Axes>"
      ]
     },
     "metadata": {
      "needs_background": "light"
     },
     "output_type": "display_data"
    }
   ],
   "source": [
    "# Creating a comparison plot visualizing the difference between the percentages of each page type by churn\n",
    "plt.figure(figsize=(8,6))\n",
    "\n",
    "sns.barplot(x='percentage', y='page', hue='will_churn', data=pd_churn_page);\n",
    "plt.title(\"Percentage of event counts comparison for each page type for events with/without churn\");"
   ]
  },
  {
   "cell_type": "markdown",
   "metadata": {},
   "source": [
    "### We will go ahead to analyse the number of songs played in each hour in the events of not churned and churned users\n"
   ]
  },
  {
   "cell_type": "code",
   "execution_count": 26,
   "metadata": {},
   "outputs": [],
   "source": [
    "# Firsty, we create an hour column by calculating Static hour using the 'ts' column\n",
    "get_hour = udf(lambda x: datetime.datetime.fromtimestamp(x / 1000.0).hour)\n",
    "df = df.withColumn('hour', get_hour('ts'))"
   ]
  },
  {
   "cell_type": "code",
   "execution_count": 27,
   "metadata": {},
   "outputs": [],
   "source": [
    "def plot_NumberOfSongsInHour(will_churn):\n",
    "    '''\n",
    "    Plot a number of songs in hour for events with the specified churn value\n",
    "    '''\n",
    "    \n",
    "    # Get a number of songs in hour for a particular data set\n",
    "    songs_in_hour = df.filter(df.will_churn == will_churn) \\\n",
    "        .groupby('hour') \\\n",
    "        .count() \\\n",
    "        .orderBy(df.hour.cast(\"float\"))\n",
    "\n",
    "    \n",
    "    # Convert to pandas and create a scatter plot\n",
    "\n",
    "    pd_songs_in_hour = songs_in_hour.toPandas()\n",
    "    pd_songs_in_hour.hour = pd.to_numeric(pd_songs_in_hour.hour)\n",
    "\n",
    "    plt.scatter(pd_songs_in_hour[\"hour\"], pd_songs_in_hour[\"count\"]);\n",
    "    plt.xlim(-1, 24);\n",
    "    plt.ylim(0, 1.2 * pd_songs_in_hour[\"count\"].max())\n",
    "    plt.xlabel(\"Hour\")\n",
    "    plt.ylabel(\"Songs played\");"
   ]
  },
  {
   "cell_type": "code",
   "execution_count": 28,
   "metadata": {},
   "outputs": [
    {
     "data": {
      "image/png": "[encoded data removed]",
      "text/plain": [
       "<Figure size 432x288 with 1 Axes>"
      ]
     },
     "metadata": {
      "needs_background": "light"
     },
     "output_type": "display_data"
    }
   ],
   "source": [
    "# Visualizing the number of songs in hours of events of not churned users\n",
    "plot_NumberOfSongsInHour(0)\n",
    "plt.title('The number of songs in hours of NOT churned users');"
   ]
  },
  {
   "cell_type": "code",
   "execution_count": 29,
   "metadata": {},
   "outputs": [
    {
     "data": {
      "image/png": "[encoded data removed]",
      "text/plain": [
       "<Figure size 432x288 with 1 Axes>"
      ]
     },
     "metadata": {
      "needs_background": "light"
     },
     "output_type": "display_data"
    }
   ],
   "source": [
    "# Visualizing he number of songs in hours of events of churned users\n",
    "plot_NumberOfSongsInHour(1)\n",
    "plt.title('The number of songs in hours of CHURNED users');"
   ]
  },
  {
   "cell_type": "markdown",
   "metadata": {},
   "source": [
    "From the visualizations, there seems to be a similar trend between a number of songs played in each hour of events of users who are churned and who are not churned"
   ]
  },
  {
   "cell_type": "markdown",
   "metadata": {},
   "source": [
    "### Now lets understand how gender plays a factor in churn rate  "
   ]
  },
  {
   "cell_type": "code",
   "execution_count": 30,
   "metadata": {},
   "outputs": [],
   "source": [
    "#selecting a subset of the data \n",
    "\n",
    "df_gender = df.select(\"userId\", \"gender\", 'will_churn') \\\n",
    "    .dropDuplicates() \\\n",
    "    .groupby('will_churn', 'gender') \\\n",
    "    .count() "
   ]
  },
  {
   "cell_type": "code",
   "execution_count": 31,
   "metadata": {},
   "outputs": [
    {
     "name": "stdout",
     "output_type": "stream",
     "text": [
      "+----------+------+-----+\n",
      "|will_churn|gender|count|\n",
      "+----------+------+-----+\n",
      "|         0|     F|   84|\n",
      "|         0|     M|   89|\n",
      "|         1|     F|   20|\n",
      "|         1|     M|   32|\n",
      "+----------+------+-----+\n",
      "\n"
     ]
    }
   ],
   "source": [
    "df_gender.orderBy('will_churn', 'gender').show()"
   ]
  },
  {
   "cell_type": "code",
   "execution_count": 32,
   "metadata": {},
   "outputs": [],
   "source": [
    "#conerting to a pandas dataframe for visualization \n",
    "pd_gender = df_gender.toPandas()"
   ]
  },
  {
   "cell_type": "code",
   "execution_count": 33,
   "metadata": {},
   "outputs": [
    {
     "data": {
      "text/html": [
       "<div>\n",
       "<style scoped>\n",
       "    .dataframe tbody tr th:only-of-type {\n",
       "        vertical-align: middle;\n",
       "    }\n",
       "\n",
       "    .dataframe tbody tr th {\n",
       "        vertical-align: top;\n",
       "    }\n",
       "\n",
       "    .dataframe thead th {\n",
       "        text-align: right;\n",
       "    }\n",
       "</style>\n",
       "<table border=\"1\" class=\"dataframe\">\n",
       "  <thead>\n",
       "    <tr style=\"text-align: right;\">\n",
       "      <th>gender</th>\n",
       "      <th>F</th>\n",
       "      <th>M</th>\n",
       "    </tr>\n",
       "    <tr>\n",
       "      <th>will_churn</th>\n",
       "      <th></th>\n",
       "      <th></th>\n",
       "    </tr>\n",
       "  </thead>\n",
       "  <tbody>\n",
       "    <tr>\n",
       "      <th>0</th>\n",
       "      <td>0.485549</td>\n",
       "      <td>0.514451</td>\n",
       "    </tr>\n",
       "    <tr>\n",
       "      <th>1</th>\n",
       "      <td>0.384615</td>\n",
       "      <td>0.615385</td>\n",
       "    </tr>\n",
       "  </tbody>\n",
       "</table>\n",
       "</div>"
      ],
      "text/plain": [
       "gender             F         M\n",
       "will_churn                    \n",
       "0           0.485549  0.514451\n",
       "1           0.384615  0.615385"
      ]
     },
     "execution_count": 33,
     "metadata": {},
     "output_type": "execute_result"
    }
   ],
   "source": [
    "#creating a pivot table \n",
    "pd_gender_pivot = pd_gender.pivot(index='will_churn', columns='gender', values='count')\n",
    "total_counts = pd_gender_pivot.sum(axis=1)\n",
    "pd_gender_pivot = pd_gender_pivot.div(total_counts, axis=0)\n",
    "pd_gender_pivot"
   ]
  },
  {
   "cell_type": "code",
   "execution_count": 34,
   "metadata": {},
   "outputs": [
    {
     "data": {
      "image/png": "[encoded data removed]",
      "text/plain": [
       "<Figure size 432x288 with 1 Axes>"
      ]
     },
     "metadata": {
      "needs_background": "light"
     },
     "output_type": "display_data"
    }
   ],
   "source": [
    "pd_gender_pivot.plot.barh();\n",
    "plt.title('Gender ratio comparison of users who are/are not churned');"
   ]
  },
  {
   "cell_type": "markdown",
   "metadata": {},
   "source": [
    "From the analysis and visualization, we see that it is more likely for a male customer to be churned than a female"
   ]
  },
  {
   "cell_type": "markdown",
   "metadata": {},
   "source": [
    "### Analysis of session time spent by users on the platform"
   ]
  },
  {
   "cell_type": "code",
   "execution_count": 35,
   "metadata": {},
   "outputs": [],
   "source": [
    "# Selecting data based on churn status\n",
    "df_churn = df.filter('will_churn == 1')\n",
    "df_not_churn = df.filter('will_churn == 0')"
   ]
  },
  {
   "cell_type": "code",
   "execution_count": 36,
   "metadata": {},
   "outputs": [],
   "source": [
    "def get_session_time(df, showSummary=False):\n",
    "    '''\n",
    "    Get number of registration days of the dataset\n",
    "    \n",
    "    Input: Sparkify dataset\n",
    "        \n",
    "    Optional Input:\n",
    "        showSummary: Show summary statistics of the output data fram. Default is False.\n",
    "        \n",
    "    Output:\n",
    "        df_sessionTime: Spark dataframe contains sessionTime information of each userId and sessionId\n",
    "    '''\n",
    "    \n",
    "    # Find a session time by grouping events by userId and sessionId\n",
    "    # and then find a difference between the min and max timestamp\n",
    "    df_sessionTime = df.groupby(\"userId\", \"sessionId\") \\\n",
    "        .agg(((max(df.ts)-min(df.ts))/(1000*60)) \\\n",
    "        .alias(\"sessionTime\"))\n",
    "    \n",
    "    if showSummary:\n",
    "        # Print the statistics\n",
    "        df_sessionTime.select('sessionTime').describe().show();\n",
    "\n",
    "        # Create a box plot\n",
    "        df_sessionTime.select('sessionTime').toPandas().boxplot();\n",
    "    \n",
    "    return df_sessionTime;\n",
    "    "
   ]
  },
  {
   "cell_type": "code",
   "execution_count": 37,
   "metadata": {},
   "outputs": [
    {
     "name": "stdout",
     "output_type": "stream",
     "text": [
      "+-------+------------------+\n",
      "|summary|       sessionTime|\n",
      "+-------+------------------+\n",
      "|  count|               537|\n",
      "|   mean|283.12153941651167|\n",
      "| stddev| 375.3192516301638|\n",
      "|    min|               0.0|\n",
      "|    max| 3300.016666666667|\n",
      "+-------+------------------+\n",
      "\n"
     ]
    },
    {
     "data": {
      "image/png": "[encoded data removed]",
      "text/plain": [
       "<Figure size 432x288 with 1 Axes>"
      ]
     },
     "metadata": {
      "needs_background": "light"
     },
     "output_type": "display_data"
    }
   ],
   "source": [
    "#Session time of churned users\n",
    "df_sessionTime_churn = get_session_time(df_churn, showSummary=True)\n",
    "plt.title('Distribution of session time of churned users');"
   ]
  },
  {
   "cell_type": "code",
   "execution_count": 38,
   "metadata": {},
   "outputs": [
    {
     "name": "stdout",
     "output_type": "stream",
     "text": [
      "+-------+-----------------+\n",
      "|summary|      sessionTime|\n",
      "+-------+-----------------+\n",
      "|  count|             2639|\n",
      "|   mean|302.8553618794994|\n",
      "| stddev|393.2417448405118|\n",
      "|    min|              0.0|\n",
      "|    max|4455.083333333333|\n",
      "+-------+-----------------+\n",
      "\n"
     ]
    },
    {
     "data": {
      "image/png": "[encoded data removed]",
      "text/plain": [
       "<Figure size 432x288 with 1 Axes>"
      ]
     },
     "metadata": {
      "needs_background": "light"
     },
     "output_type": "display_data"
    }
   ],
   "source": [
    "#Session time of not churned users\n",
    "df_sessionTime_not_churn = get_session_time(df_not_churn, showSummary=True)\n",
    "plt.title('Distribution of session time of not churned users');"
   ]
  },
  {
   "cell_type": "markdown",
   "metadata": {},
   "source": [
    "The statistics of session time shows that:\n",
    "\n",
    "* The average session time of churned users is approximately: 283 minutes/session\n",
    "* The average session time of not churned users is approximately: 302 minutes/session"
   ]
  },
  {
   "cell_type": "markdown",
   "metadata": {},
   "source": [
    "### Analysis number of songs per session for each user group"
   ]
  },
  {
   "cell_type": "code",
   "execution_count": 39,
   "metadata": {},
   "outputs": [],
   "source": [
    "def get_songs_per_session(df, showSummary=False):\n",
    "    '''\n",
    "    Get a number of songs played in each userId and sessionId\n",
    "    \n",
    "    Input:\n",
    "        df: Sparkify dataframe\n",
    "        \n",
    "    Optional Input:\n",
    "        showSummary: Show summary statistics of the output data fram. Default is False.\n",
    "        \n",
    "    Output:\n",
    "        df_songs_per_session: Spark dataframe contains information of each userId and sessionId\n",
    "    '''\n",
    "    \n",
    "    # Filter only events with the \"NextSong\" page\n",
    "    # Then, group them by userId and sessionId and find the counts\n",
    "    df_songs_per_session = df.filter(df.page==\"NextSong\") \\\n",
    "        .groupby(\"userId\", \"sessionId\") \\\n",
    "        .count()\n",
    "    \n",
    "    if showSummary:\n",
    "        # Print the statistics\n",
    "        df_songs_per_session.select('count').describe().show();\n",
    "\n",
    "        # Create a box plot\n",
    "        df_songs_per_session.select('count').toPandas().boxplot();\n",
    "    \n",
    "    return df_songs_per_session;"
   ]
  },
  {
   "cell_type": "code",
   "execution_count": 40,
   "metadata": {},
   "outputs": [
    {
     "name": "stdout",
     "output_type": "stream",
     "text": [
      "+-------+-----------------+\n",
      "|summary|            count|\n",
      "+-------+-----------------+\n",
      "|  count|              519|\n",
      "|   mean| 70.1233140655106|\n",
      "| stddev|88.76147060464496|\n",
      "|    min|                1|\n",
      "|    max|              708|\n",
      "+-------+-----------------+\n",
      "\n"
     ]
    },
    {
     "data": {
      "image/png": "[encoded data removed]",
      "text/plain": [
       "<Figure size 432x288 with 1 Axes>"
      ]
     },
     "metadata": {
      "needs_background": "light"
     },
     "output_type": "display_data"
    }
   ],
   "source": [
    "#Songs per session for churned users \n",
    "df_songs_per_session_churn = get_songs_per_session(df_churn, showSummary=True);\n",
    "plt.title('Distribution of songs per session for churned users');"
   ]
  },
  {
   "cell_type": "code",
   "execution_count": 41,
   "metadata": {},
   "outputs": [
    {
     "name": "stdout",
     "output_type": "stream",
     "text": [
      "+-------+----------------+\n",
      "|summary|           count|\n",
      "+-------+----------------+\n",
      "|  count|            2552|\n",
      "|   mean|75.1230407523511|\n",
      "| stddev|94.2792988298564|\n",
      "|    min|               1|\n",
      "|    max|            1093|\n",
      "+-------+----------------+\n",
      "\n"
     ]
    },
    {
     "data": {
      "image/png": "[encoded data removed]",
      "text/plain": [
       "<Figure size 432x288 with 1 Axes>"
      ]
     },
     "metadata": {
      "needs_background": "light"
     },
     "output_type": "display_data"
    }
   ],
   "source": [
    "#Songs per session for not churned users \n",
    "df_songs_per_session_not_churn = get_songs_per_session(df_not_churn, showSummary=True)\n",
    "plt.title('Distribution of songs per session for not churned users');"
   ]
  },
  {
   "cell_type": "markdown",
   "metadata": {},
   "source": [
    "The statistics of session time shows that:\n",
    "\n",
    "* The average songs played in each session by churned users is approximately 70 songs\n",
    "* The average songs played in each session by not churned users is approximately 75 songs"
   ]
  },
  {
   "cell_type": "markdown",
   "metadata": {},
   "source": [
    "### Analysis of registration days"
   ]
  },
  {
   "cell_type": "code",
   "execution_count": 42,
   "metadata": {},
   "outputs": [],
   "source": [
    "def get_user_reg_days(df, showSummary=False):\n",
    "    '''\n",
    "    Get a number of registration days \n",
    "    \n",
    "    Input:\n",
    "        df:   Sparkify dataframe\n",
    "        \n",
    "    Optional Input:\n",
    "        showSummary: Show summary statistics of the output data fram. Default is False.\n",
    "        \n",
    "    Output:\n",
    "        user_reg_days: Spark dataframe contains information of a number of registration days\n",
    "    '''\n",
    "    \n",
    "    # Get a max timestamp of each ID first\n",
    "    user_max_ts = df.groupby(\"userId\").max(\"ts\").sort(\"userId\")\n",
    "\n",
    "    # Get the registration timestamp. \n",
    "    user_reg_ts = df.select(\"userId\", \"registration\").dropDuplicates().sort(\"userId\")\n",
    "\n",
    "    # Join the max timestamp and registration timestamp table\n",
    "    join_reg_max_ts = user_reg_ts.join(user_max_ts, (user_reg_ts.userId == user_max_ts.userId))\n",
    "\n",
    "    # Then, select\n",
    "    # 1) The userId column\n",
    "    # 2) Computed a number of registration days from the max and registration columns\n",
    "    user_reg_days = join_reg_max_ts.select(user_reg_ts[\"userId\"], \n",
    "                                           ((user_max_ts[\"max(ts)\"]-user_reg_ts[\"registration\"])/(1000*60*60*24))\n",
    "                                            .alias(\"NumRegDays\"))\n",
    "    \n",
    "    if showSummary:\n",
    "        # Print the statistics\n",
    "        user_reg_days.select('NumRegDays').describe().show();\n",
    "\n",
    "        # Create a boxplot of the statistics\n",
    "        user_reg_days.select('NumRegDays').toPandas().boxplot();\n",
    "\n",
    "    return user_reg_days"
   ]
  },
  {
   "cell_type": "code",
   "execution_count": 43,
   "metadata": {},
   "outputs": [
    {
     "name": "stdout",
     "output_type": "stream",
     "text": [
      "+-------+-----------------+\n",
      "|summary|       NumRegDays|\n",
      "+-------+-----------------+\n",
      "|  count|               52|\n",
      "|   mean|57.30599292200855|\n",
      "| stddev| 36.6331481313374|\n",
      "|    min|5.165115740740741|\n",
      "|    max|188.3117824074074|\n",
      "+-------+-----------------+\n",
      "\n"
     ]
    },
    {
     "data": {
      "image/png": "[encoded data removed]",
      "text/plain": [
       "<Figure size 432x288 with 1 Axes>"
      ]
     },
     "metadata": {
      "needs_background": "light"
     },
     "output_type": "display_data"
    }
   ],
   "source": [
    "# Registration days and statistics of churned users\n",
    "user_reg_days = get_user_reg_days(df_churn, showSummary=True)\n",
    "plt.title('Number of registration days of churned users');"
   ]
  },
  {
   "cell_type": "code",
   "execution_count": 44,
   "metadata": {},
   "outputs": [
    {
     "name": "stdout",
     "output_type": "stream",
     "text": [
      "+-------+-------------------+\n",
      "|summary|         NumRegDays|\n",
      "+-------+-------------------+\n",
      "|  count|                173|\n",
      "|   mean|  86.62061938021833|\n",
      "| stddev|  35.34864197873643|\n",
      "|    min|0.31372685185185184|\n",
      "|    max|  256.3776736111111|\n",
      "+-------+-------------------+\n",
      "\n"
     ]
    },
    {
     "data": {
      "text/plain": [
       "Text(0.5, 1.0, 'Number of registration days of not churned users')"
      ]
     },
     "execution_count": 44,
     "metadata": {},
     "output_type": "execute_result"
    },
    {
     "data": {
      "image/png": "[encoded data removed]",
      "text/plain": [
       "<Figure size 432x288 with 1 Axes>"
      ]
     },
     "metadata": {
      "needs_background": "light"
     },
     "output_type": "display_data"
    }
   ],
   "source": [
    "# Registration days and statistics of not churned users\n",
    "user_reg_days = get_user_reg_days(df_not_churn, showSummary=True)\n",
    "plt.title('Number of registration days of not churned users')"
   ]
  },
  {
   "cell_type": "markdown",
   "metadata": {},
   "source": [
    "The analysis shows that :\n",
    "* The number of registration days of churned users are an average of 57 days\n",
    "* The number of registration days of not churned users are an average of 86 days"
   ]
  },
  {
   "cell_type": "markdown",
   "metadata": {},
   "source": [
    "### Analysis of user level"
   ]
  },
  {
   "cell_type": "code",
   "execution_count": 45,
   "metadata": {},
   "outputs": [],
   "source": [
    "def get_user_level(df, showSummary=False):\n",
    "    '''\n",
    "    Get data of the last user level (paid/free) \n",
    "    \n",
    "    Input:\n",
    "        df: Sparkify dataframe\n",
    "    \n",
    "    Optional Input:\n",
    "        showSummary: Show summary statistics of the output data fram. Default is False.\n",
    "        \n",
    "    Output:\n",
    "        user_reg_days: Spark dataframe contains data of the last user level (paid/free) of a given data\n",
    "    '''\n",
    "    \n",
    "    # Get a max timestamp of each ID first\n",
    "    user_max_ts = df.groupby(\"userId\").max(\"ts\").sort(\"userId\")\n",
    "\n",
    "    # Get the registration timestamp. \n",
    "    user_level = df.select(\"userId\", \"level\").dropDuplicates()\n",
    "    \n",
    "    \n",
    "    if showSummary:\n",
    "        # show a summary of counts grouped by 'level' \n",
    "        total_user_level = user_level.count()\n",
    "\n",
    "        group_level = user_level.groupby('level').count()\n",
    "        get_ratio = udf(lambda x: x*1.0/total_user_level, FloatType())\n",
    "        df_level = group_level.withColumn('ratio', get_ratio(\"count\"))\n",
    "        df_level.show()\n",
    "    \n",
    "    return user_level;"
   ]
  },
  {
   "cell_type": "code",
   "execution_count": 46,
   "metadata": {},
   "outputs": [
    {
     "name": "stdout",
     "output_type": "stream",
     "text": [
      "+-----+-----+---------+\n",
      "|level|count|    ratio|\n",
      "+-----+-----+---------+\n",
      "| free|   46|0.5609756|\n",
      "| paid|   36|0.4390244|\n",
      "+-----+-----+---------+\n",
      "\n"
     ]
    },
    {
     "data": {
      "text/plain": [
       "DataFrame[userId: string, level: string]"
      ]
     },
     "execution_count": 46,
     "metadata": {},
     "output_type": "execute_result"
    }
   ],
   "source": [
    "# Number of user level of churned users\n",
    "get_user_level(df_churn, showSummary=True)"
   ]
  },
  {
   "cell_type": "code",
   "execution_count": 47,
   "metadata": {},
   "outputs": [
    {
     "name": "stdout",
     "output_type": "stream",
     "text": [
      "+-----+-----+----------+\n",
      "|level|count|     ratio|\n",
      "+-----+-----+----------+\n",
      "| free|  149| 0.5359712|\n",
      "| paid|  129|0.46402878|\n",
      "+-----+-----+----------+\n",
      "\n"
     ]
    },
    {
     "data": {
      "text/plain": [
       "DataFrame[userId: string, level: string]"
      ]
     },
     "execution_count": 47,
     "metadata": {},
     "output_type": "execute_result"
    }
   ],
   "source": [
    "# Number of user level of not churned users\n",
    "get_user_level(df_not_churn, showSummary=True)"
   ]
  },
  {
   "cell_type": "markdown",
   "metadata": {},
   "source": [
    "The analysis shows that a ratio of free/paid users who are/are not churned are similar (around 55/45)"
   ]
  },
  {
   "cell_type": "markdown",
   "metadata": {},
   "source": [
    " "
   ]
  },
  {
   "cell_type": "markdown",
   "metadata": {},
   "source": [
    "# Feature Engineering\n",
    "Once you've familiarized yourself with the data, build out the features you find promising to train your model on. To work with the full dataset, you can follow the following steps.\n",
    "- Write a script to extract the necessary features from the smaller subset of data\n",
    "- Ensure that your script is scalable, using the best practices discussed in Lesson 3\n",
    "- Try your script on the full data set, debugging your script if necessary\n",
    "\n",
    "If you are working in the classroom workspace, you can just extract features based on the small subset of data contained here. Be sure to transfer over this work to the larger dataset when you work on your Spark cluster."
   ]
  },
  {
   "cell_type": "markdown",
   "metadata": {},
   "source": [
    "Based on the Exploratory Data Analysis (EDA), we will create features that will be used to train our model from the folllowing:\n",
    "\n",
    "* Gender \n",
    "* Average session time \n",
    "* Average number of songs played in each session \n",
    "* User registration\n",
    "* User level "
   ]
  },
  {
   "cell_type": "markdown",
   "metadata": {},
   "source": [
    "#### User Gender "
   ]
  },
  {
   "cell_type": "code",
   "execution_count": 48,
   "metadata": {},
   "outputs": [
    {
     "data": {
      "text/plain": [
       "Row(userId='10', gender_index=1)"
      ]
     },
     "execution_count": 48,
     "metadata": {},
     "output_type": "execute_result"
    }
   ],
   "source": [
    "# Dropping duplicates \n",
    "df_gender = df.dropDuplicates(['userId']).sort('userId').select(['userId','gender'])\n",
    "\n",
    "# Creating index for gender using StringIndexerModel  \n",
    "\n",
    "fromlabelsModel = StringIndexerModel.from_labels([\"F\", \"M\"], \\\n",
    "    inputCol=\"gender\", outputCol=\"gender_index\", handleInvalid=\"error\")\n",
    "df_gender = fromlabelsModel.transform(df_gender)\n",
    "\n",
    "# Only extracted interested columns\n",
    "df_gender = df_gender.select('userId', df_gender.gender_index.cast(\"int\"))\n",
    "df_gender.head()"
   ]
  },
  {
   "cell_type": "markdown",
   "metadata": {},
   "source": [
    "#### Average session time "
   ]
  },
  {
   "cell_type": "code",
   "execution_count": 49,
   "metadata": {},
   "outputs": [],
   "source": [
    "def scale_column_with_StandardScaler(df, column_name):\n",
    "    '''\n",
    "    Scale column using the StandardScaler\n",
    "    \n",
    "    Input :\n",
    "        df:Spark dataframe\n",
    "        column_name:  Column name with numerical value to be scaled with the StandardScaler\n",
    "    \n",
    "    Output :\n",
    "        df_scaled: New Spark dataframe with the \"_vec\" and \"_scaled\" columns\n",
    "    '''\n",
    "    \n",
    "    # Creating a vector of sessionTime first before scaling \n",
    "    column_vec = column_name + '_vec'\n",
    "    assembler = VectorAssembler(inputCols=[column_name], outputCol=column_vec)\n",
    "    df_scaled = assembler.transform(df)\n",
    "\n",
    "    # Using the StandardScale to scale the session time\n",
    "    column_scaled = column_name + '_scaled'\n",
    "    scaler = StandardScaler(inputCol=column_vec, \n",
    "                            outputCol=column_scaled, \n",
    "                            withStd=True)\n",
    "\n",
    "    # Selecting only the interested columns\n",
    "    df_scaled = scaler.fit(df_scaled).transform(df_scaled)\n",
    "    \n",
    "    return df_scaled;"
   ]
  },
  {
   "cell_type": "code",
   "execution_count": 50,
   "metadata": {},
   "outputs": [],
   "source": [
    "def get_avg_column_by_user(df, column_name):\n",
    "    '''\n",
    "    Get average values of a particular column grouped by userId\n",
    "    \n",
    "    Input:\n",
    "    df : Sparkify dataframe\n",
    "    column_name: The interested column name that we want to get average values for\n",
    "    \n",
    "    Output :\n",
    "    df_avg: Spark dataframe with average values information stored in a column \"avg_\"\"\n",
    "    '''\n",
    "    df_avg = df.groupby('userId') \\\n",
    "                .agg(avg(column_name)) \\\n",
    "                .select('userId', col('avg(' + column_name + ')').alias('avg_' + column_name))\n",
    "    \n",
    "    return df_avg"
   ]
  },
  {
   "cell_type": "code",
   "execution_count": 51,
   "metadata": {},
   "outputs": [
    {
     "name": "stdout",
     "output_type": "stream",
     "text": [
      "+------+------------------+\n",
      "|userId|   avg_sessionTime|\n",
      "+------+------------------+\n",
      "|100010|154.48333333333332|\n",
      "|200002|266.40000000000003|\n",
      "|   125|29.566666666666666|\n",
      "|    51| 872.3566666666666|\n",
      "|   124| 578.9942528735633|\n",
      "|     7| 87.64047619047619|\n",
      "|    54|322.28963963963963|\n",
      "|    15| 528.2833333333333|\n",
      "|   155| 548.5722222222222|\n",
      "|100014| 184.8138888888889|\n",
      "|   132|498.95104166666675|\n",
      "|   154|110.68333333333332|\n",
      "|   101| 817.5800000000002|\n",
      "|    11|161.37708333333333|\n",
      "|300017|233.32407407407408|\n",
      "|   138| 564.2266666666667|\n",
      "|    29| 365.7568627450981|\n",
      "|    69| 526.6851851851852|\n",
      "|100021| 215.2266666666667|\n",
      "|    42|329.56276595744686|\n",
      "+------+------------------+\n",
      "only showing top 20 rows\n",
      "\n"
     ]
    }
   ],
   "source": [
    "# Getting the average session time \n",
    "df_sessionTime = get_session_time(df)\n",
    "df_sessionTime_avg = get_avg_column_by_user(df_sessionTime, 'sessionTime')\n",
    "df_sessionTime_avg.show()"
   ]
  },
  {
   "cell_type": "code",
   "execution_count": 52,
   "metadata": {},
   "outputs": [
    {
     "name": "stdout",
     "output_type": "stream",
     "text": [
      "+------+----------------------+\n",
      "|userId|avg_sessionTime_scaled|\n",
      "+------+----------------------+\n",
      "|100010|  [0.8735647913871122]|\n",
      "|200002|  [1.5064256797423243]|\n",
      "|   125|   [0.167192139380811]|\n",
      "|    51|   [4.932959776880936]|\n",
      "|   124|  [3.2740683594292666]|\n",
      "|     7|  [0.4955850747679395]|\n",
      "|    54|  [1.8224676781833815]|\n",
      "|    15|   [2.987310733908436]|\n",
      "|   155|   [3.102039349657914]|\n",
      "|100014|   [1.045076532264515]|\n",
      "|   132|  [2.8214439268049896]|\n",
      "|   154|  [0.6258866953934418]|\n",
      "|   101|   [4.623211363527513]|\n",
      "|    11|  [0.9125472314386275]|\n",
      "|300017|  [1.3193895528802007]|\n",
      "|   138|  [3.1905613358186153]|\n",
      "|    29|  [2.0682640036831996]|\n",
      "|    69|  [2.9782736039895066]|\n",
      "|100021|  [1.2170532193393693]|\n",
      "|    42|   [1.863595396866394]|\n",
      "+------+----------------------+\n",
      "only showing top 20 rows\n",
      "\n"
     ]
    }
   ],
   "source": [
    "# Scaling\n",
    "df_sessionTime_avg_scaled = scale_column_with_StandardScaler(df_sessionTime_avg, 'avg_sessionTime')\n",
    "df_sessionTime_avg_scaled = df_sessionTime_avg_scaled.select('userId', 'avg_sessionTime_scaled')\n",
    "df_sessionTime_avg_scaled.show()"
   ]
  },
  {
   "cell_type": "markdown",
   "metadata": {},
   "source": [
    "#### Average number of songs played in each session "
   ]
  },
  {
   "cell_type": "code",
   "execution_count": 53,
   "metadata": {},
   "outputs": [],
   "source": [
    "# Getting data of number of songs per session\n",
    "df_song = get_songs_per_session(df)"
   ]
  },
  {
   "cell_type": "code",
   "execution_count": 54,
   "metadata": {},
   "outputs": [],
   "source": [
    "# Getting average number of songs per session for each user\n",
    "df_song_avg = get_avg_column_by_user(df_song, 'count')\n",
    "# Renaming the column \n",
    "df_song_avg = df_song.select('userId', col('count').alias('num_songs'))"
   ]
  },
  {
   "cell_type": "code",
   "execution_count": 55,
   "metadata": {},
   "outputs": [
    {
     "name": "stdout",
     "output_type": "stream",
     "text": [
      "+------+--------------------+\n",
      "|userId|    num_songs_scaled|\n",
      "+------+--------------------+\n",
      "|    92|[0.6104453670311931]|\n",
      "|    42|[0.17135308548244...|\n",
      "|   101| [7.582374032597977]|\n",
      "|   120|[2.5274580108659923]|\n",
      "|   140|[0.03212870352795...|\n",
      "|   122|[0.06425740705591...|\n",
      "|    29|[0.13922438195448...|\n",
      "|     8|[0.11780524626917...|\n",
      "|    96|[1.4243725230727837]|\n",
      "|   153|[0.6639932062444556]|\n",
      "|    97|[0.7496697489856757]|\n",
      "|    35|[0.10709567842652...|\n",
      "|   110|[0.19277222116774...|\n",
      "|300011|[0.28915833175161...|\n",
      "|   137|[0.06425740705591...|\n",
      "|    40|[0.6532836384018031]|\n",
      "|    35|[0.13922438195448...|\n",
      "|    24|[0.05354783921326...|\n",
      "|    47|[0.03212870352795...|\n",
      "|    85|[0.7817984525136332]|\n",
      "+------+--------------------+\n",
      "only showing top 20 rows\n",
      "\n"
     ]
    }
   ],
   "source": [
    "# Scaling 'num_songs' column with StandardScaler\n",
    "df_song_avg_scaled = scale_column_with_StandardScaler(df_song_avg, 'num_songs')\n",
    "\n",
    "# Selecting userId and the scaled column\n",
    "df_song_avg_scaled = df_song_avg_scaled.select('userId', 'num_songs_scaled')\n",
    "\n",
    "#Results\n",
    "df_song_avg_scaled.show()"
   ]
  },
  {
   "cell_type": "markdown",
   "metadata": {},
   "source": [
    "#### User registration timeline"
   ]
  },
  {
   "cell_type": "code",
   "execution_count": 56,
   "metadata": {},
   "outputs": [
    {
     "name": "stdout",
     "output_type": "stream",
     "text": [
      "+------+--------------------+\n",
      "|userId|   NumRegDays_scaled|\n",
      "+------+--------------------+\n",
      "|    10|[1.3744192788380685]|\n",
      "|   100|[1.7225502115580493]|\n",
      "|100001|[1.1895504844942821]|\n",
      "|100002| [4.260908341600925]|\n",
      "|100003|[0.6040155473135719]|\n",
      "+------+--------------------+\n",
      "only showing top 5 rows\n",
      "\n"
     ]
    }
   ],
   "source": [
    "# Getting number of days since each user registered\n",
    "df_reg_days = get_user_reg_days(df)\n",
    "\n",
    "# Scaling with StandardScaler\n",
    "df_reg_days_scaled = scale_column_with_StandardScaler(df_reg_days, 'NumRegDays')\n",
    "df_reg_days_scaled = df_reg_days_scaled.select('userId', 'NumRegDays_scaled').sort('userId')\n",
    "\n",
    "#Results\n",
    "df_reg_days_scaled.show(5)"
   ]
  },
  {
   "cell_type": "markdown",
   "metadata": {},
   "source": [
    "#### User level (free or paid) "
   ]
  },
  {
   "cell_type": "code",
   "execution_count": 57,
   "metadata": {},
   "outputs": [
    {
     "name": "stdout",
     "output_type": "stream",
     "text": [
      "+------+-----------+\n",
      "|userId|level_index|\n",
      "+------+-----------+\n",
      "|100021|          0|\n",
      "|200021|          0|\n",
      "|200001|          0|\n",
      "|     6|          0|\n",
      "|300022|          1|\n",
      "+------+-----------+\n",
      "only showing top 5 rows\n",
      "\n"
     ]
    }
   ],
   "source": [
    "# Getting data of user level\n",
    "df_level = get_user_level(df)\n",
    "\n",
    "# Transforiming the selected data\n",
    "fromlabelsModel = StringIndexerModel.from_labels([\"free\", \"paid\"],\n",
    "    inputCol=\"level\", outputCol=\"level_index\", handleInvalid=\"error\")\n",
    "df_level = fromlabelsModel.transform(df_level)\n",
    "\n",
    "# Subsetting columns\n",
    "df_level = df_level.select('userId', df_level.level_index.cast(\"int\"))\n",
    "\n",
    "#Results\n",
    "df_level.show(5)"
   ]
  },
  {
   "cell_type": "markdown",
   "metadata": {},
   "source": [
    "Now we are going to join the scaled data columns with the churn dataframe using the 'userId' column"
   ]
  },
  {
   "cell_type": "code",
   "execution_count": 58,
   "metadata": {},
   "outputs": [],
   "source": [
    "# Create the label (churn) data \n",
    "df_combined = df.dropDuplicates(['userId']) \\\n",
    "                .sort('userId') \\\n",
    "                .select(['userId', col('will_churn').alias('label').cast(\"int\")])"
   ]
  },
  {
   "cell_type": "code",
   "execution_count": 59,
   "metadata": {},
   "outputs": [],
   "source": [
    "# Iterating through each data frame that we created earlier and joining them with the label dataframe\n",
    "feature_list = [    \n",
    "    df_gender, \n",
    "    df_sessionTime_avg_scaled, \n",
    "    df_song_avg_scaled, \n",
    "    df_reg_days_scaled, \n",
    "    df_level\n",
    "]\n",
    "\n",
    "for feature in feature_list:\n",
    "    df_combined = df_combined.join(feature,'userId')"
   ]
  },
  {
   "cell_type": "code",
   "execution_count": 60,
   "metadata": {},
   "outputs": [
    {
     "name": "stdout",
     "output_type": "stream",
     "text": [
      "root\n",
      " |-- userId: string (nullable = true)\n",
      " |-- label: integer (nullable = true)\n",
      " |-- gender_index: integer (nullable = true)\n",
      " |-- avg_sessionTime_scaled: vector (nullable = true)\n",
      " |-- num_songs_scaled: vector (nullable = true)\n",
      " |-- NumRegDays_scaled: vector (nullable = true)\n",
      " |-- level_index: integer (nullable = true)\n",
      "\n"
     ]
    }
   ],
   "source": [
    "# Inspect the schema of the combined data frame \n",
    "df_combined.printSchema()"
   ]
  },
  {
   "cell_type": "markdown",
   "metadata": {},
   "source": [
    "Moving on, we are going to create a dataframe that will be used for modeling by\n",
    "\n",
    "* Combining values in the feature columns into a single DenseVector and naming it 'features'\n",
    "* Creating a data frame 'df_final' consisting of only 'features' and 'label' columns"
   ]
  },
  {
   "cell_type": "code",
   "execution_count": 61,
   "metadata": {},
   "outputs": [
    {
     "data": {
      "text/plain": [
       "Row(userId='10', label=0, gender_index=1, avg_sessionTime_scaled=DenseVector([2.5998]), num_songs_scaled=DenseVector([4.0803]), NumRegDays_scaled=DenseVector([1.3744]), level_index=1, features=DenseVector([1.0, 2.5998, 4.0803, 1.3744]))"
      ]
     },
     "execution_count": 61,
     "metadata": {},
     "output_type": "execute_result"
    }
   ],
   "source": [
    "assembler = VectorAssembler(inputCols=df_combined.columns[2:-1], outputCol=\"features\")\n",
    "df_combined = assembler.transform(df_combined)\n",
    "df_combined.head()"
   ]
  },
  {
   "cell_type": "code",
   "execution_count": 62,
   "metadata": {},
   "outputs": [
    {
     "name": "stdout",
     "output_type": "stream",
     "text": [
      "+--------------------+-----+\n",
      "|            features|label|\n",
      "+--------------------+-----+\n",
      "|[0.0,0.8735647913...|    0|\n",
      "|[0.0,0.8735647913...|    0|\n",
      "|[0.0,0.8735647913...|    0|\n",
      "|[0.0,0.8735647913...|    0|\n",
      "|[0.0,0.8735647913...|    0|\n",
      "+--------------------+-----+\n",
      "only showing top 5 rows\n",
      "\n"
     ]
    }
   ],
   "source": [
    "df_final = df_combined.select('features', 'label')\n",
    "df_final.show(5)"
   ]
  },
  {
   "cell_type": "code",
   "execution_count": 63,
   "metadata": {},
   "outputs": [
    {
     "data": {
      "text/plain": [
       "DataFrame[features: vector, label: int]"
      ]
     },
     "execution_count": 63,
     "metadata": {},
     "output_type": "execute_result"
    }
   ],
   "source": [
    "df_final.persist()"
   ]
  },
  {
   "cell_type": "markdown",
   "metadata": {},
   "source": [
    "We started by selecting userId and each feature and then went ahead to transform the colums depending on the type of variables, i.e- StringIndexerModel was used to transform categorical variables into numberical, VectorAssembler and StandardScaler were used to transform numerical variables into a numeric variables with a unit variance.\n",
    "\n",
    "After getting the dataframe of userId and transformed data of each feature, we carried out a join of all the data frames based on the userId columns. We combined all feature values into a vector and generated a final data frame which contains of only two columns; 'features' and 'label'.This dataframe will proove essentially useful in the Modeling step next. "
   ]
  },
  {
   "cell_type": "code",
   "execution_count": null,
   "metadata": {},
   "outputs": [],
   "source": []
  },
  {
   "cell_type": "markdown",
   "metadata": {},
   "source": [
    "# Modeling\n",
    "Split the full dataset into train, test, and validation sets. Test out several of the machine learning methods you learned. Evaluate the accuracy of the various models, tuning parameters as necessary. Determine your winning model based on test accuracy and report results on the validation set. Since the churned users are a fairly small subset, I suggest using F1 score as the metric to optimize."
   ]
  },
  {
   "cell_type": "code",
   "execution_count": 64,
   "metadata": {},
   "outputs": [],
   "source": [
    "#splitting the data into train and test set\n",
    "train, test = df_final.randomSplit([0.8, 0.2], seed=10)"
   ]
  },
  {
   "cell_type": "markdown",
   "metadata": {},
   "source": [
    "For this, we are going to make use of three different models: logistic regression, svm and gradient boosting tree"
   ]
  },
  {
   "cell_type": "code",
   "execution_count": 67,
   "metadata": {},
   "outputs": [],
   "source": [
    "log = LogisticRegression(maxIter=10,regParam=0.0)\n",
    "gbt = GBTClassifier(maxDepth=5,maxIter=10,seed=20)\n",
    "svm = LinearSVC(maxIter=10, regParam=0.01)"
   ]
  },
  {
   "cell_type": "markdown",
   "metadata": {},
   "source": [
    "#### Logistic Regression"
   ]
  },
  {
   "cell_type": "code",
   "execution_count": 75,
   "metadata": {},
   "outputs": [],
   "source": [
    "#Logistic Regression\n",
    "e1 = MulticlassClassificationEvaluator(metricName='f1')\n",
    "paramGrid = ParamGridBuilder().addGrid(log.regParam,[0.0, 0.05, 0.1]).build()\n",
    "crossval = CrossValidator(estimator=log,\n",
    "                          estimatorParamMaps=paramGrid,\n",
    "                          evaluator=e1,\n",
    "                          numFolds=3)"
   ]
  },
  {
   "cell_type": "code",
   "execution_count": 77,
   "metadata": {},
   "outputs": [
    {
     "data": {
      "text/plain": [
       "[0.7641149436327447, 0.7534223223015224, 0.7534223223015224]"
      ]
     },
     "execution_count": 77,
     "metadata": {},
     "output_type": "execute_result"
    }
   ],
   "source": [
    "#fit with the train set\n",
    "cvModel_q1 = crossval.fit(train)\n",
    "\n",
    "#report the f1 score \n",
    "cvModel_q1.avgMetrics"
   ]
  },
  {
   "cell_type": "code",
   "execution_count": 78,
   "metadata": {},
   "outputs": [],
   "source": [
    "# Get predicted value of the test set\n",
    "results_q1 = cvModel_q1.transform(test)"
   ]
  },
  {
   "cell_type": "code",
   "execution_count": 79,
   "metadata": {},
   "outputs": [
    {
     "name": "stdout",
     "output_type": "stream",
     "text": [
      "885\n",
      "1055\n"
     ]
    }
   ],
   "source": [
    "# Checking accuracy of the results\n",
    "print(results_q1.filter(results_q1.label == results_q1.prediction).count())\n",
    "print(results_q1.count())"
   ]
  },
  {
   "cell_type": "code",
   "execution_count": 80,
   "metadata": {},
   "outputs": [
    {
     "name": "stdout",
     "output_type": "stream",
     "text": [
      "Accuracy of the best LogisticRegression model: 83.88625592417061\n"
     ]
    }
   ],
   "source": [
    "print('Accuracy of the best LogisticRegression model: {}'.format((885/1055)*100.))"
   ]
  },
  {
   "cell_type": "markdown",
   "metadata": {},
   "source": [
    "Using BinaryClassificationEvaluator to find the area under ROC\n",
    "\n"
   ]
  },
  {
   "cell_type": "code",
   "execution_count": 81,
   "metadata": {},
   "outputs": [
    {
     "data": {
      "text/plain": [
       "0.7073533672206274"
      ]
     },
     "execution_count": 81,
     "metadata": {},
     "output_type": "execute_result"
    }
   ],
   "source": [
    "evaluator = BinaryClassificationEvaluator(rawPredictionCol=\"rawPrediction\")\n",
    "evaluator.getMetricName()\n",
    "evaluator.evaluate(results_q1)"
   ]
  },
  {
   "cell_type": "code",
   "execution_count": 82,
   "metadata": {},
   "outputs": [],
   "source": [
    "# Save the model\n",
    "cvModel_q1.bestModel.save('logistic.model')"
   ]
  },
  {
   "cell_type": "code",
   "execution_count": null,
   "metadata": {},
   "outputs": [],
   "source": []
  },
  {
   "cell_type": "markdown",
   "metadata": {},
   "source": [
    "#### Support Vector Machine "
   ]
  },
  {
   "cell_type": "code",
   "execution_count": 83,
   "metadata": {},
   "outputs": [],
   "source": [
    "#Support Vector Machine\n",
    "e2 = MulticlassClassificationEvaluator(metricName='f1')\n",
    "paramGrid = ParamGridBuilder().addGrid(svm.regParam,[0.01, 0.05, 0.5]).build()\n",
    "crossval = CrossValidator(estimator=svm,\n",
    "                          estimatorParamMaps=paramGrid,\n",
    "                          evaluator=e2,\n",
    "                          numFolds=3)"
   ]
  },
  {
   "cell_type": "code",
   "execution_count": 84,
   "metadata": {},
   "outputs": [
    {
     "data": {
      "text/plain": [
       "[0.7534223223015224, 0.7534223223015224, 0.7534223223015224]"
      ]
     },
     "execution_count": 84,
     "metadata": {},
     "output_type": "execute_result"
    }
   ],
   "source": [
    "#fit with the train set\n",
    "cvModel_q2 = crossval.fit(train)\n",
    "\n",
    "#report the f1 score \n",
    "cvModel_q2.avgMetrics"
   ]
  },
  {
   "cell_type": "code",
   "execution_count": 85,
   "metadata": {},
   "outputs": [],
   "source": [
    "# Get predicted value of the test set\n",
    "results_q2 = cvModel_q2.transform(test)"
   ]
  },
  {
   "cell_type": "code",
   "execution_count": 86,
   "metadata": {},
   "outputs": [
    {
     "name": "stdout",
     "output_type": "stream",
     "text": [
      "883\n",
      "1055\n"
     ]
    }
   ],
   "source": [
    "# Checking accuracy of the results\n",
    "print(results_q2.filter(results_q2.label == results_q2.prediction).count())\n",
    "print(results_q2.count())"
   ]
  },
  {
   "cell_type": "code",
   "execution_count": 87,
   "metadata": {},
   "outputs": [
    {
     "name": "stdout",
     "output_type": "stream",
     "text": [
      "Accuracy of the best SVM model: 83.69668246445498\n"
     ]
    }
   ],
   "source": [
    "print('Accuracy of the best SVM model: {}'.format((883/1055)*100.))"
   ]
  },
  {
   "cell_type": "markdown",
   "metadata": {},
   "source": [
    "Using BinaryClassificationEvaluator to find the area under ROC"
   ]
  },
  {
   "cell_type": "code",
   "execution_count": 88,
   "metadata": {},
   "outputs": [
    {
     "data": {
      "text/plain": [
       "0.6981484895572702"
      ]
     },
     "execution_count": 88,
     "metadata": {},
     "output_type": "execute_result"
    }
   ],
   "source": [
    "evaluator = BinaryClassificationEvaluator(rawPredictionCol=\"rawPrediction\")\n",
    "evaluator.getMetricName()\n",
    "evaluator.evaluate(results_q2)"
   ]
  },
  {
   "cell_type": "code",
   "execution_count": 89,
   "metadata": {},
   "outputs": [],
   "source": [
    "# Save the model\n",
    "cvModel_q2.bestModel.save('svm.model')"
   ]
  },
  {
   "cell_type": "markdown",
   "metadata": {},
   "source": [
    "#### Gradient Boosted Tree Models "
   ]
  },
  {
   "cell_type": "code",
   "execution_count": 90,
   "metadata": {},
   "outputs": [],
   "source": [
    "e3 = MulticlassClassificationEvaluator(metricName='f1')\n",
    "paramGrid = ParamGridBuilder() \\\n",
    "    .addGrid(gbt.maxDepth,[5, 10]) \\\n",
    "    .build()\n",
    "crossval = CrossValidator(estimator=gbt,\n",
    "                          estimatorParamMaps=paramGrid,\n",
    "                          evaluator=e3,\n",
    "                          numFolds=3)"
   ]
  },
  {
   "cell_type": "code",
   "execution_count": 91,
   "metadata": {},
   "outputs": [
    {
     "data": {
      "text/plain": [
       "[0.9553832286452998, 0.9875652192353693]"
      ]
     },
     "execution_count": 91,
     "metadata": {},
     "output_type": "execute_result"
    }
   ],
   "source": [
    "#fit with the train set\n",
    "cvModel_q3 = crossval.fit(train)\n",
    "\n",
    "#report the f1 score \n",
    "cvModel_q3.avgMetrics"
   ]
  },
  {
   "cell_type": "code",
   "execution_count": 92,
   "metadata": {},
   "outputs": [],
   "source": [
    "# Get predicted value of the test set\n",
    "results_q3 = cvModel_q3.transform(test)"
   ]
  },
  {
   "cell_type": "code",
   "execution_count": 93,
   "metadata": {},
   "outputs": [
    {
     "name": "stdout",
     "output_type": "stream",
     "text": [
      "1045\n",
      "1055\n"
     ]
    }
   ],
   "source": [
    "# Checking accuracy of the results\n",
    "print(results_q3.filter(results_q3.label == results_q3.prediction).count())\n",
    "print(results_q3.count())"
   ]
  },
  {
   "cell_type": "code",
   "execution_count": 94,
   "metadata": {},
   "outputs": [
    {
     "name": "stdout",
     "output_type": "stream",
     "text": [
      "Accuracy of the best GBT model: 99.0521327014218\n"
     ]
    }
   ],
   "source": [
    "print('Accuracy of the best GBT model: {}'.format((1045/1055)*100.))"
   ]
  },
  {
   "cell_type": "markdown",
   "metadata": {},
   "source": [
    "Using BinaryClassificationEvaluator to find the area under ROC"
   ]
  },
  {
   "cell_type": "code",
   "execution_count": 95,
   "metadata": {},
   "outputs": [
    {
     "data": {
      "text/plain": [
       "0.9983736732597646"
      ]
     },
     "execution_count": 95,
     "metadata": {},
     "output_type": "execute_result"
    }
   ],
   "source": [
    "evaluator = BinaryClassificationEvaluator(rawPredictionCol=\"rawPrediction\")\n",
    "evaluator.getMetricName()\n",
    "evaluator.evaluate(results_q3)"
   ]
  },
  {
   "cell_type": "code",
   "execution_count": 103,
   "metadata": {},
   "outputs": [],
   "source": [
    "# Save the model\n",
    "cvModel_q3.bestModel.save('gbt.model')"
   ]
  },
  {
   "cell_type": "markdown",
   "metadata": {},
   "source": [
    "### Conclusion"
   ]
  },
  {
   "cell_type": "markdown",
   "metadata": {},
   "source": [
    "\n",
    "In this modelling section, we used Spark to build Machine Learning models in conjunction with CrossValidator and ParamGridBuilder to tune hyper parameters to find the best model.\n",
    "Among the three models we've been trained:\n",
    "\n",
    "* logistic regression (best f1 score 0.7641) (Accuracy of the best Logistic model: 83.88%)\n",
    "* Support Vector Machine (best f1 score 0.7534) (Accuracy of the best SVM model: 83.69%)\n",
    "* Graident Boosted Tree (best f1 score 0.7621 ) (Accuracy of the best GBT model: 99.05%)\n",
    "\n",
    "\n",
    "\n",
    "Based on the results, the best model is the GBTClassifier which out performs the best model  from the LogisticRegression and the SVM model in terms of accuracy and area under ROC however,  more time was spent training the GBTClassifier model.\n"
   ]
  },
  {
   "cell_type": "markdown",
   "metadata": {},
   "source": [
    "### Summary "
   ]
  },
  {
   "cell_type": "markdown",
   "metadata": {},
   "source": [
    "In this project, we were able to study the Sparkify streaming service dataset and created models to predict customer churn after carrying out feature engineering. We started by exploring the data that we have and trying to understand the different levels of the dataset and how it impacted churn. We then went ahead to create features that were later used in build three machine(GBT). Amongst the three models, the GBT performed best with good f1 scores and hight accuracy score of 99% although it took a longer time to train.\n",
    "\n",
    "\n",
    "\n"
   ]
  },
  {
   "cell_type": "markdown",
   "metadata": {},
   "source": [
    "### Future Improvement"
   ]
  },
  {
   "cell_type": "markdown",
   "metadata": {},
   "source": [
    "\n",
    "1. For the feature engineering process, we operated using procedure programming hence, we would need to reimplement the same logic when doing a similar task. In essence, the feature engineering process is not very efficient in terms of time saving. What can be done to improve this is to create a class or build a pipeline to perform the feature engineering process. This way we will be able to utilize the same code for similar tasks and when deploying in different environments.\n",
    "\n",
    "2. We used a small subset of the data (128MB) to train the Machine Learning models to predict churn is and this contains only a small number of users who are churned. There may be a different pattern or different performance metrics if the Machine Learning model is trained with a large dataset (12GB)"
   ]
  },
  {
   "cell_type": "markdown",
   "metadata": {},
   "source": [
    "# Final Steps\n",
    "Clean up your code, adding comments and renaming variables to make the code easier to read and maintain. Refer to the Spark Project Overview page and Data Scientist Capstone Project Rubric to make sure you are including all components of the capstone project and meet all expectations. Remember, this includes thorough documentation in a README file in a Github repository, as well as a web app or blog post."
   ]
  },
  {
   "cell_type": "code",
   "execution_count": null,
   "metadata": {},
   "outputs": [],
   "source": []
  }
 ],
 "metadata": {
  "kernelspec": {
   "display_name": "Python 3",
   "language": "python",
   "name": "python3"
  },
  "language_info": {
   "codemirror_mode": {
    "name": "ipython",
    "version": 3
   },
   "file_extension": ".py",
   "mimetype": "text/x-python",
   "name": "python",
   "nbconvert_exporter": "python",
   "pygments_lexer": "ipython3",
   "version": "3.8.8"
  }
 },
 "nbformat": 4,
 "nbformat_minor": 2
}
